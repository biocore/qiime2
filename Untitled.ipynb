{
 "cells": [
  {
   "cell_type": "code",
   "execution_count": null,
   "metadata": {},
   "outputs": [],
   "source": [
    "NOTES:\n",
    "- should be able to use interface-specific features:\n",
    "    - q2cli: verbose\n",
    "    - q2cli: output-dir\n",
    "    - q2cli: metadata merging? maybe?\n",
    "- an interface should be able to control the rendering of default values (or not)\n",
    "\n",
    "TODO:\n",
    "- figure out how data should work\n",
    "    - how should data get loaded in galaxy?\n",
    "    - how should metadata be created in galaxy?\n",
    "- multiple assertions"
   ]
  },
  {
   "cell_type": "code",
   "execution_count": null,
   "metadata": {},
   "outputs": [],
   "source": [
    "def example_demux_single_basic(ctx):\n",
    "    ctx.comment('We shall do the things now.')\n",
    "    a1 = ctx.action('cutadapt', 'demux_single',\n",
    "        seqs='multiplexed-seqs',\n",
    "        barcodes='barcodes',\n",
    "        error_rate=0,\n",
    "        per_sample_sequences='demux-seqs',\n",
    "        untrimmed_sequences='untrimmed',\n",
    "    )\n",
    "    ctx.comment('As you can see, we have done the thing.')\n",
    "    ctx.assert_has_line_matching(\n",
    "        title='Ensure `foo` is in the output',\n",
    "        result=a1.untrimmed_sequences,\n",
    "        path='data/forward.fastq.gz'\n",
    "        search='foo'\n",
    "    )"
   ]
  },
  {
   "cell_type": "code",
   "execution_count": null,
   "metadata": {},
   "outputs": [],
   "source": [
    "plugin.methods.register_function(\n",
    "    function=q2_cutadapt._demux.demux_single,\n",
    "    inputs={\n",
    "        'seqs': MultiplexedSingleEndBarcodeInSequence,\n",
    "    },\n",
    "    ...,\n",
    "    usage=[example_demux_single_basic],\n",
    ")"
   ]
  },
  {
   "cell_type": "code",
   "execution_count": null,
   "metadata": {},
   "outputs": [],
   "source": [
    "# We shall do the things now.\n",
    "qiime cutadapt demux-single \\\n",
    "  --i-seqs multiplexed-seqs.qza \\\n",
    "  --m-barcodes-file metadata.tsv \\\n",
    "  --m-barcodes-column Barcode \\\n",
    "  --p-error-rate 0 \\\n",
    "  --o-per-sample-sequences demultiplexed-seqs.qza \\\n",
    "  --o-untrimmed-sequences untrimmed.qza \\\n",
    "# As you can see, we have done the thing.\n",
    "\n",
    "# Assertion: Ensure `foo` is in the output\n",
    "qiime tools extract --input-path untrimmed.qza --output-path assertion_01\n",
    "grep -Fxq \"foo\" assertion_01/data/forward.fastq.gz\n",
    "rm -rf assetion_01"
   ]
  },
  {
   "cell_type": "code",
   "execution_count": null,
   "metadata": {},
   "outputs": [],
   "source": [
    "<?xml version=\"1.0\" ?>\n",
    "<tool id=\"qiime2_plugins_cutadapt_methods_demux_single\" name=\"cutadapt demux-single\" profile=\"18.09\" version=\"2019.4.0.dev0+1.gbe181d9\">\n",
    "    <requirements>\n",
    "        <requirement type=\"package\" version=\"2018.11.0\">qiime2</requirement>\n",
    "    </requirements>\n",
    "    <description>Demultiplex single-end sequence data with barcodes in-sequence.</description>\n",
    "    <command>q2galaxy run cutadapt demux_single '$inputs'</command>\n",
    "    <version_command>q2galaxy version cutadapt</version_command>\n",
    "    <configfiles>\n",
    "        <inputs data_style=\"paths\" name=\"inputs\"/>\n",
    "    </configfiles>\n",
    "    <inputs>\n",
    "        <param format=\"qza\" help=\"The single-end sequences to be demultiplexed.\" name=\"seqs\" type=\"data\">\n",
    "            <options options_filter_attribute=\"metadata.semantic_type\">\n",
    "                <filter type=\"add_value\" value=\"MultiplexedSingleEndBarcodeInSequence\"/>\n",
    "            </options>\n",
    "        </param>\n",
    "    </inputs>\n",
    "    <outputs>\n",
    "        <data format=\"qza\" from_work_dir=\"per_sample_sequences.qza\" name=\"per_sample_sequences\"/>\n",
    "        <data format=\"qza\" from_work_dir=\"untrimmed_sequences.qza\" name=\"untrimmed_sequences\"/>\n",
    "    </outputs>\n",
    "    <help>Demultiplex sequence data (i.e., map barcode reads to sample ids). Barcodes are expected to be located within the sequence data (versus the header, or a separate barcode file).</help>\n",
    "    <tests>\n",
    "        <test>\n",
    "            <!-- We shall do the things now. -->\n",
    "            <param name=\"seqs\" value=\"multiplexed-seqs.qza\" />\n",
    "            <param name=\"barcodes_file\" value=\"metadata.qza\" />\n",
    "            <param name=\"barcodes_column\" value=\"Barcodes\" />\n",
    "            <param name=\"error_rate\" value=\"0\" />\n",
    "            \n",
    "            <output name=\"demultiplexed_seqs\">\n",
    "                <assert_contents>\n",
    "                    <has_archive_member path=\"data/forward.fastq.gz\">\n",
    "                        <!-- Ensure `foo` is in the output -->\n",
    "                        <has_line_matching expression=\"foo\" />\n",
    "                    </has_archive_member>\n",
    "                </assert_contents>\n",
    "            </output>\n",
    "            <!-- As you can see, we have done the thing. -->\n",
    "        </test>\n",
    "    </tests>\n",
    "</tool>"
   ]
  }
 ],
 "metadata": {
  "kernelspec": {
   "display_name": "Python 3",
   "language": "python",
   "name": "python3"
  },
  "language_info": {
   "codemirror_mode": {
    "name": "ipython",
    "version": 3
   },
   "file_extension": ".py",
   "mimetype": "text/x-python",
   "name": "python",
   "nbconvert_exporter": "python",
   "pygments_lexer": "ipython3",
   "version": "3.6.7"
  }
 },
 "nbformat": 4,
 "nbformat_minor": 2
}

{
 "cells": [
  {
   "cell_type": "code",
   "execution_count": null,
   "metadata": {},
   "outputs": [],
   "source": [
    "# NOTES:\n",
    "# - should be able to use interface-specific features:\n",
    "#   - q2cli: verbose\n",
    "#   - q2cli: output-dir\n",
    "#   - q2cli: metadata merging? maybe?\n",
    "# - an interface should be able to control the rendering of default values (or not) \n",
    "\n",
    "def example_demux_single_basic(ctx):\n",
    "    seqs = ctx.data('cutadapt', 'demux_single_seqs')\n",
    "    barcodes = ctx.data('cutadapt', 'demux_single_barcodes')\n",
    "    ctx.comment('We shall do the things now.')\n",
    "    ctx.action('cutadapt', 'demux_single',\n",
    "               seqs=seqs, barcodes=barcodes, error_rate=0,\n",
    "               per_sample_sequences='demux-seqs',\n",
    "               untrimmed_sequences='untrimmed',\n",
    "              )\n",
    "    ctx.comment('As you can see, we have done the thing.')\n",
    "\n",
    "# qiime cutadapt demux-single \\\n",
    "#   --i-seqs multiplexed-seqs.qza \\\n",
    "#   --m-barcodes-file metadata.tsv \\\n",
    "#   --m-barcodes-column Barcode \\\n",
    "#   --p-error-rate 0 \\\n",
    "#   --o-per-sample-sequences demultiplexed-seqs.qza \\\n",
    "#   --o-untrimmed-sequences untrimmed.qza \\\n",
    "#   --verbose"
   ]
  }
 ],
 "metadata": {
  "kernelspec": {
   "display_name": "Python 3",
   "language": "python",
   "name": "python3"
  },
  "language_info": {
   "codemirror_mode": {
    "name": "ipython",
    "version": 3
   },
   "file_extension": ".py",
   "mimetype": "text/x-python",
   "name": "python",
   "nbconvert_exporter": "python",
   "pygments_lexer": "ipython3",
   "version": "3.6.7"
  }
 },
 "nbformat": 4,
 "nbformat_minor": 2
}
